{
 "cells": [
  {
   "cell_type": "code",
   "execution_count": 1,
   "id": "97389da4",
   "metadata": {},
   "outputs": [],
   "source": [
    "import os\n",
    "import shutil"
   ]
  },
  {
   "cell_type": "code",
   "execution_count": 7,
   "id": "df944bab",
   "metadata": {},
   "outputs": [],
   "source": [
    "source_dir = '../Image'\n",
    "train_dir = '../TrainSet'\n",
    "test_dir = '../TestSet'\n",
    "\n",
    "os.makedirs(train_dir,exist_ok=True)\n",
    "os.makedirs(test_dir,exist_ok=True)"
   ]
  },
  {
   "cell_type": "code",
   "execution_count": 8,
   "id": "a3119a61",
   "metadata": {},
   "outputs": [],
   "source": [
    "split_ratio = 0.8 \n",
    "\n",
    "for class_name in os.listdir(source_dir):\n",
    "    class_dir = os.path.join(source_dir, class_name)\n",
    "    images = os.listdir(class_dir)\n",
    "    num_train = int(len(images) * split_ratio)\n",
    "    \n",
    "    train_images = images[:num_train]\n",
    "    test_images = images[num_train:]\n",
    "    \n",
    "    for image in train_images:\n",
    "        src_path = os.path.join(class_dir, image)\n",
    "        dst_path = os.path.join(train_dir, class_name, image)\n",
    "        os.makedirs(os.path.dirname(dst_path), exist_ok=True)\n",
    "        shutil.copy(src_path, dst_path)\n",
    "    \n",
    "    for image in test_images:\n",
    "        src_path = os.path.join(class_dir, image)\n",
    "        dst_path = os.path.join(test_dir, class_name, image)\n",
    "        os.makedirs(os.path.dirname(dst_path), exist_ok=True)\n",
    "        shutil.copy(src_path, dst_path)\n"
   ]
  }
 ],
 "metadata": {
  "kernelspec": {
   "display_name": "Python 3 (ipykernel)",
   "language": "python",
   "name": "python3"
  },
  "language_info": {
   "codemirror_mode": {
    "name": "ipython",
    "version": 3
   },
   "file_extension": ".py",
   "mimetype": "text/x-python",
   "name": "python",
   "nbconvert_exporter": "python",
   "pygments_lexer": "ipython3",
   "version": "3.11.5"
  }
 },
 "nbformat": 4,
 "nbformat_minor": 5
}
