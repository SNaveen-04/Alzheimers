{
 "cells": [
  {
   "cell_type": "code",
   "execution_count": 3,
   "metadata": {},
   "outputs": [],
   "source": [
    "import subprocess\n",
    "import os"
   ]
  },
  {
   "cell_type": "code",
   "execution_count": 4,
   "metadata": {},
   "outputs": [],
   "source": [
    "mp3_dir = 'cookie'\n",
    "os.makedirs('Dataset/Control')\n",
    "os.makedirs('Dataset/AD')\n",
    "for audio in os.listdir(os.path.join(mp3_dir,'control')):\n",
    "    output = audio.replace('.mp3','.wav')\n",
    "    input_path = os.path.join(mp3_dir,'control',audio)\n",
    "    output_path = os.path.join('Dataset','Control',output)\n",
    "    subprocess.call(['ffmpeg', '-i', input_path,output_path\n",
    "                ])"
   ]
  },
  {
   "cell_type": "code",
   "execution_count": 5,
   "metadata": {},
   "outputs": [],
   "source": [
    "for audio in os.listdir(os.path.join(mp3_dir,'AD')):\n",
    "    output = audio.replace('.mp3','.wav')\n",
    "    input_path = os.path.join(mp3_dir,'AD',audio)\n",
    "    output_path = os.path.join('Dataset','AD',output)\n",
    "    subprocess.call(['ffmpeg', '-i', input_path,output_path\n",
    "                ])"
   ]
  }
 ],
 "metadata": {
  "kernelspec": {
   "display_name": "Python 3 (ipykernel)",
   "language": "python",
   "name": "python3"
  },
  "language_info": {
   "codemirror_mode": {
    "name": "ipython",
    "version": 3
   },
   "file_extension": ".py",
   "mimetype": "text/x-python",
   "name": "python",
   "nbconvert_exporter": "python",
   "pygments_lexer": "ipython3",
   "version": "3.9.13"
  }
 },
 "nbformat": 4,
 "nbformat_minor": 2
}
